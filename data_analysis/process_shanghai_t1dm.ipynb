{
 "cells": [
  {
   "cell_type": "code",
   "execution_count": 1,
   "metadata": {},
   "outputs": [],
   "source": [
    "import numpy as np\n",
    "import os\n",
    "import pandas as pd\n",
    "import copy \n",
    "import datetime \n",
    "data_path = '../../../code_data/shanghai_t1dm/'\n",
    "process_file = 'nips_23'\n",
    "\n",
    "# pid_list = [1000 + d for d in range(1, 13)]\n"
   ]
  },
  {
   "cell_type": "code",
   "execution_count": 2,
   "metadata": {},
   "outputs": [
    {
     "name": "stdout",
     "output_type": "stream",
     "text": [
      "1001_0_20210730.xlsx\n",
      "1002_0_20210504.xlsx\n",
      "1002_1_20210521.xlsx\n",
      "1002_2_20210909.xlsx\n",
      "1003_0_20210831.xlsx\n",
      "1004_0_20210425.xlsx\n",
      "1005_0_20210522.xlsx\n",
      "1006_0_20210114.xlsx\n",
      "1006_1_20210209.xlsx\n",
      "1006_2_20210303.xlsx\n",
      "1007_0_20210726.xlsx\n",
      "1008_0_20210713.xlsx\n",
      "1009_0_20210803.xlsx\n",
      "1010_0_20210915.xlsx\n",
      "1011_0_20210622.xlsx\n",
      "1012_0_20210923.xlsx\n"
     ]
    }
   ],
   "source": [
    "names = ['ts', 'glucose_level', 'finger_stick', 'blood_ketone', 'meal', 'insulin_dose_sc', 'hypo_agents', 'insulin_bolus', 'basal',\t'insulin_iv',] \n",
    "usecols = [0, 1, 2, 3, 4, 6, 7, 8, 9, 10]\n",
    "pid2df = {}\n",
    "for x in os.listdir(os.path.join(data_path,\n",
    "                                  'processing/temp1')):\n",
    "    if x.endswith('.xlsx'):\n",
    "        # Prints only text file present in My Folder\n",
    "        print(x)\n",
    "        pid = int(x[:4])\n",
    "        df = pd.read_excel(os.path.join(data_path, 'processing/temp1',x), names=names, usecols=usecols)\n",
    "        if pid not in pid2df:\n",
    "            pid2df[pid] = df\n",
    "        else:\n",
    "            pid2df[pid] = pd.concat([pid2df[pid], df])"
   ]
  },
  {
   "cell_type": "code",
   "execution_count": 3,
   "metadata": {},
   "outputs": [],
   "source": [
    "import re\n",
    "def change_meal(x):\n",
    "    if pd.notna(x):\n",
    "        pattern = re.compile(r'[-+]?[0-9]*\\.?[0-9]+')   # find_number\n",
    "        result = pattern.findall(x)\n",
    "        if len(result) == 0:\n",
    "            return np.nan\n",
    "        return np.array(result, dtype=float).sum()\n",
    "for pid in pid2df:\n",
    "    pid2df[pid]['meal'] = pid2df[pid]['meal'].apply(change_meal)"
   ]
  },
  {
   "cell_type": "code",
   "execution_count": 4,
   "metadata": {},
   "outputs": [],
   "source": [
    "for pid in pid2df:\n",
    "    pid2df[pid]['meal'] = pid2df[pid]['meal'].astype(np.float64)"
   ]
  },
  {
   "cell_type": "code",
   "execution_count": 5,
   "metadata": {},
   "outputs": [],
   "source": [
    "def change_insulin(x):\n",
    "    if pd.notna(x):\n",
    "        if type(x) != str:\n",
    "            return x\n",
    "        pattern = re.compile(r'[-+]?[0-9]*\\.?[0-9]+\\s*IU')   # find_number\n",
    "        result = pattern.findall(x)\n",
    "        if len(result) == 0:\n",
    "            return np.nan\n",
    "\n",
    "        result = [res[:-3] for res in result]\n",
    "        final = np.array(result, dtype=float).sum()\n",
    "        return final\n",
    "for pid in pid2df:\n",
    "    pid2df[pid]['insulin_dose_sc'] = pid2df[pid]['insulin_dose_sc'].apply(change_insulin)\n",
    "    # pid2df[pid]['hypo_agents'] = pid2df[pid]['hypo_agents'].apply(change_insulin)\n",
    "    pid2df[pid]['insulin_bolus'] = pid2df[pid]['insulin_bolus'].apply(change_insulin)\n",
    "    pid2df[pid]['basal'] = pid2df[pid]['basal'].apply(change_insulin)\n",
    "    pid2df[pid]['insulin_iv'] = pid2df[pid]['insulin_iv'].apply(change_insulin)"
   ]
  },
  {
   "cell_type": "code",
   "execution_count": 6,
   "metadata": {},
   "outputs": [],
   "source": [
    "def nan_sum(x):\n",
    "    if pd.notna(x[0]) and pd.notna(x[1]):\n",
    "        return x[0] + x[1]\n",
    "    elif pd.notna(x[0]):\n",
    "        return x[0]\n",
    "    elif pd.notna(x[1]):\n",
    "        return x[1]\n",
    "    else:\n",
    "        return np.NaN\n",
    "\n",
    "for pid in pid2df:\n",
    "    pid2df[pid]['insulin_dose_sc'] = pid2df[pid]['insulin_dose_sc'].astype(np.float64)\n",
    "    pid2df[pid]['insulin_bolus'] = pid2df[pid]['insulin_bolus'].astype(np.float64)\n",
    "    pid2df[pid]['basal'] = pid2df[pid]['basal'].astype(np.float64)\n",
    "    pid2df[pid]['insulin_iv'] = pid2df[pid]['insulin_iv'].astype(np.float64)\n",
    "    pid2df[pid]['bolus'] = pid2df[pid][['insulin_dose_sc', 'insulin_bolus']].apply(nan_sum, axis=1)"
   ]
  },
  {
   "cell_type": "code",
   "execution_count": 7,
   "metadata": {},
   "outputs": [],
   "source": [
    "def change_non_insulin(x):\n",
    "    if pd.notna(x):\n",
    "        if type(x) != str:\n",
    "            return x\n",
    "        pattern = re.compile(r'[-+]?[0-9]*\\.?[0-9]+')   # find_number\n",
    "        result = pattern.findall(x)\n",
    "        if len(result) == 0:\n",
    "            return np.nan\n",
    "        final = np.array(result, dtype=float).sum()\n",
    "        return final\n",
    "for pid in pid2df:\n",
    "    pid2df[pid]['hypo_agents'] = pid2df[pid]['hypo_agents'].apply(change_non_insulin)\n"
   ]
  },
  {
   "cell_type": "code",
   "execution_count": 8,
   "metadata": {},
   "outputs": [],
   "source": [
    "for pid in pid2df:\n",
    "    pid2df[pid]['hypo_agents'] = pid2df[pid]['hypo_agents'].astype(np.float64)"
   ]
  },
  {
   "cell_type": "code",
   "execution_count": 9,
   "metadata": {},
   "outputs": [
    {
     "name": "stdout",
     "output_type": "stream",
     "text": [
      "1001, total_points:658, start:2021-07-30 16:43:00, end:2021-08-06 12:58:00\n",
      "1002, total_points:2238, start:2021-05-04 10:33:00, end:2021-09-13 09:06:00\n",
      "1003, total_points:1339, start:2021-08-31 17:43:00, end:2021-09-14 16:13:00\n",
      "1004, total_points:917, start:2021-04-25 17:26:00, end:2021-05-05 06:26:00\n",
      "1005, total_points:1256, start:2021-05-22 11:59:00, end:2021-06-04 13:44:00\n",
      "1006, total_points:3710, start:2021-01-14 18:39:00, end:2021-03-15 10:38:00\n",
      "1007, total_points:1337, start:2021-07-26 09:58:00, end:2021-08-09 07:58:00\n",
      "1008, total_points:766, start:2021-07-13 16:27:00, end:2021-07-21 15:42:00\n",
      "1009, total_points:681, start:2021-08-03 12:04:00, end:2021-08-10 14:04:00\n",
      "1010, total_points:918, start:2021-09-14 17:30:00, end:2021-09-24 06:45:00\n",
      "1011, total_points:536, start:2021-06-22 17:23:00, end:2021-06-28 07:08:00\n",
      "1012, total_points:1339, start:2021-09-23 01:08:00, end:2021-10-06 23:38:00\n"
     ]
    }
   ],
   "source": [
    "pid2regular_df = {}\n",
    "pid_list = list(pid2df.keys())\n",
    "for pid in pid_list:\n",
    "    df = pid2df[pid]\n",
    "    df = df.set_index('ts')\n",
    "    df = df.sort_index()\n",
    "    pid2regular_df[pid] = df\n",
    "    print(f'{pid}, total_points:{len(df)}, start:{df.index[0]}, end:{df.index[-1]}')\n"
   ]
  },
  {
   "cell_type": "code",
   "execution_count": 11,
   "metadata": {},
   "outputs": [],
   "source": [
    "# add time features\n",
    "\n",
    "def add_time_attributes(pid2data):\n",
    "    for pid in pid2data:\n",
    "        data = pid2data[pid]\n",
    "\n",
    "        temp = data.index.to_frame().iloc[:, 0].dt\n",
    "        \n",
    "        data['day_of_week'] = temp.dayofweek\n",
    "        data['day_of_week'] = data['day_of_week'].astype(np.float64)\n",
    "\n",
    "        data['hour'] = temp.hour\n",
    "        data['hour'] = data['hour'].astype(np.float64)\n",
    "\n",
    "        data['minute'] = temp.minute\n",
    "        data['minute'] = data['minute'].astype(np.float64)\n",
    "\n",
    "        \n",
    "        data['timestamp'] = temp.hour * 3600 +\\\n",
    "                                temp.minute * 60 +\\\n",
    "                                temp.second\n",
    "        data['timestamp'] = data['timestamp'].astype(np.float64)\n",
    "        \n",
    "        # new ————————————————————————\n",
    "        seconds_in_day = 24*60*60\n",
    "\n",
    "        data['sin_time'] = np.sin(2 * np.pi * data.timestamp / seconds_in_day)\n",
    "        data['cos_time'] = np.cos(2 * np.pi * data.timestamp / seconds_in_day)\n",
    "        data['sin_time'].astype(np.float64)\n",
    "        data['cos_time'].astype(np.float64)\n",
    "        # end ______________________\n",
    "        \n",
    "        data['datastamp'] = temp.year * 10000 + temp.month * 100 + temp.day\n",
    "        \n",
    "        \n",
    "    return pid2data\n",
    "pid2regular_df = add_time_attributes(pid2regular_df)\n",
    "for pid in pid2regular_df:\n",
    "    data = pid2regular_df[pid]\n",
    "    data = data.loc[pd.notna(data['glucose_level'])]\n",
    "    pid2regular_df[pid] = data"
   ]
  },
  {
   "cell_type": "code",
   "execution_count": 12,
   "metadata": {},
   "outputs": [],
   "source": [
    "def f(x):\n",
    "    return 1.509 * ((np.log(x))**1.084 - 5.381)\n",
    "\n",
    "def cal_LBGI(x):\n",
    "    x = f(x) if f(x) <= 0 else 0\n",
    "    return 10 * x ** 2\n",
    "\n",
    "def cal_HBGI(x):\n",
    "    x = f(x) if f(x) > 0 else 0\n",
    "    return 10 * x ** 2\n",
    "count2count_list = {}\n",
    "count2count_list['No. of Days'] = []\n",
    "count2count_list['CV'] = []\n",
    "count2count_list['TIR'] = []\n",
    "count2count_list['TBR'] = []\n",
    "count2count_list['TAR'] = []\n",
    "\n",
    "count2count_list['LBGI'] = []\n",
    "count2count_list['HBGI'] = []\n",
    "\n",
    "count2count_list['Mean of CGM data'] = []\n",
    "count2count_list['SD of CGM data'] = []\n",
    "count2count_list['No. of CGM records'] = []\n",
    "\n",
    "for pid in pid2regular_df:\n",
    "    \n",
    "    glucose_avg_by_day = pid2regular_df[pid][['glucose_level', 'datastamp']].groupby('datastamp').mean()\n",
    "    \n",
    "    count2count_list['No. of Days'].append(len(glucose_avg_by_day))\n",
    "    \n",
    "    glucose_mean = pid2regular_df[pid]['glucose_level'].mean()\n",
    "    glucose_std = pid2regular_df[pid]['glucose_level'].std()\n",
    "    count2count_list['Mean of CGM data'].append(glucose_mean)\n",
    "    count2count_list['SD of CGM data'].append(glucose_std)\n",
    "    \n",
    "    count2count_list['No. of CGM records'].append(len(pid2regular_df[pid]['glucose_level']))\n",
    " \n",
    "    count2count_list['CV'].append((glucose_std / glucose_mean) * 100)\n",
    "\n",
    "    target_range_min = 70\n",
    "    target_range_max = 180\n",
    "    \n",
    "    glucose_values = pid2regular_df[pid]['glucose_level']\n",
    "    time_in_range = ((glucose_values >= target_range_min) & (glucose_values <= target_range_max)).sum()\n",
    "    total_time_points = len(glucose_values)\n",
    "    tir_percentage = (time_in_range / total_time_points) * 100\n",
    "    count2count_list['TIR'].append(tir_percentage)\n",
    "    \n",
    "    \n",
    "    time_below_range = ((glucose_values < target_range_min)).sum()\n",
    "    tbr_percentage = (time_below_range / total_time_points) * 100\n",
    "    count2count_list['TBR'].append(tbr_percentage)\n",
    "    \n",
    "    time_above_range = ((glucose_values > target_range_max)).sum()\n",
    "    tar_percentage = (time_above_range / total_time_points) * 100\n",
    "    count2count_list['TAR'].append(tar_percentage)\n",
    "    \n",
    "    LBGI = pid2regular_df[pid]['glucose_level'].apply(cal_LBGI)\n",
    "    HBGI = pid2regular_df[pid]['glucose_level'].apply(cal_HBGI)\n",
    "\n",
    "    count2count_list['LBGI'].append(LBGI.mean())\n",
    "    count2count_list['HBGI'].append(HBGI.mean())\n",
    "    \n"
   ]
  },
  {
   "cell_type": "code",
   "execution_count": 14,
   "metadata": {},
   "outputs": [
    {
     "name": "stdout",
     "output_type": "stream",
     "text": [
      "No. of Days 15.083333333333334 9.595644266483042\n",
      "CV 38.30259615774941 7.163053893444234\n",
      "TIR 53.84196540777322 12.258566907988577\n",
      "TBR 6.645055895167601 6.4537399921136345\n",
      "TAR 39.51297869705917 16.40448268023312\n",
      "LBGI 1.6324020123418546 1.5498868453417116\n",
      "HBGI 8.87287509510201 3.5479064678307997\n",
      "Mean of CGM data 166.51329635718534 27.81495467857983\n",
      "SD of CGM data 62.75056268312537 11.948562292428583\n",
      "No. of CGM records 1307.9166666666667 849.0351836382022\n"
     ]
    }
   ],
   "source": [
    "import xlwt\n",
    "\n",
    "book = xlwt.Workbook(encoding='utf-8', style_compression=0)\n",
    "sheet = book.add_sheet('Main', cell_overwrite_ok=True)\n",
    "\n",
    "row_names = ['No. of Days', 'No. of CGM records', 'Mean of CGM data', 'SD of CGM data', 'TIR', 'TBR','TAR', 'CV', 'LBGI', 'HBGI'] \n",
    "\n",
    "\n",
    "for r_idx, r_name in enumerate(row_names):\n",
    "    sheet.write(r_idx + 3, 0, r_name)\n",
    "    \n",
    "    if 'No' not in r_name:\n",
    "        print_str = f'{np.mean(count2count_list[r_name]):.2f}({np.std(count2count_list[r_name]):.2f})'\n",
    "    else:\n",
    "        print_str = f'{int(np.mean(count2count_list[r_name]))}({int(np.std(count2count_list[r_name]))})'\n",
    "    sheet.write(r_idx + 3, 1, print_str)\n",
    "book.save(f'shanghai_t1dm.xls')\n",
    "for k in count2count_list:\n",
    "\n",
    "   print(k, np.mean(count2count_list[k]), np.std(count2count_list[k]))"
   ]
  }
 ],
 "metadata": {
  "kernelspec": {
   "display_name": "Python 3.9.12 ('base')",
   "language": "python",
   "name": "python3"
  },
  "language_info": {
   "codemirror_mode": {
    "name": "ipython",
    "version": 3
   },
   "file_extension": ".py",
   "mimetype": "text/x-python",
   "name": "python",
   "nbconvert_exporter": "python",
   "pygments_lexer": "ipython3",
   "version": "3.9.18"
  },
  "orig_nbformat": 4,
  "vscode": {
   "interpreter": {
    "hash": "52634da84371cba311ea128a5ea7cdc41ff074b781779e754b270ff9f8153cee"
   }
  }
 },
 "nbformat": 4,
 "nbformat_minor": 2
}
