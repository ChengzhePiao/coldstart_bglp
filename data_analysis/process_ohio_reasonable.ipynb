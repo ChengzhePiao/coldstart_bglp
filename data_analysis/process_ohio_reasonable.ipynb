{
 "cells": [
  {
   "cell_type": "code",
   "execution_count": 1,
   "metadata": {},
   "outputs": [],
   "source": [
    "import numpy as np\n",
    "import os\n",
    "import pandas as pd\n",
    "import xml.etree.ElementTree as etree\n",
    "import copy \n",
    "import datetime \n",
    "data_path = '../../../code_data/ohio/ohio_raw_data/'\n",
    "save_path = '../../../code_data/ohio/coldstart_fl_analysis'\n",
    "pid_list_2018 = [559, 563, 570, 575, 588, 591]\n",
    "pid_list_2020 = [540, 544, 552, 567, 584, 596]\n",
    "pid_list = pid_list_2018 + pid_list_2020\n",
    "attri_list = [\n",
    "    'glucose_level',\n",
    "    'finger_stick',\n",
    "    'basal',\n",
    "    'temp_basal',\n",
    "    'bolus',\n",
    "    'meal',\n",
    "    'sleep',\n",
    "    'work',\n",
    "    'stressors',\n",
    "    'hypo_event',\n",
    "    'illness',\n",
    "    'exercise',\n",
    "    'basis_heart_rate',\n",
    "    'basis_gsr',\n",
    "    'basis_skin_temperature',\n",
    "    'basis_air_temperature',\n",
    "    'basis_steps',\n",
    "    'basis_sleep',\n",
    "    'acceleration',\n",
    "]"
   ]
  },
  {
   "cell_type": "code",
   "execution_count": 2,
   "metadata": {},
   "outputs": [],
   "source": [
    "\n",
    "# load data from xml files\n",
    "def load_xml(is_train):\n",
    "    pid_attri2data = {}\n",
    "    ending = '-ws-training.xml' if is_train else '-ws-testing.xml'\n",
    "\n",
    "    # loop for pids\n",
    "    for pid in pid_list:\n",
    "        xml_path = os.path.join(data_path, f'{pid}' + ending)\n",
    "        tree = etree.parse(xml_path)\n",
    "        root = tree.getroot()\n",
    "        # loop for attributes\n",
    "        for attri in attri_list:\n",
    "            try:\n",
    "                temp = [event.attrib for event in root.find(attri).findall('event')]\n",
    "            except:\n",
    "                continue\n",
    "            if len(temp) == 0:\n",
    "                continue\n",
    "            # change data to dataframe\n",
    "            temp_pd = pd.DataFrame(temp)\n",
    "            for col in temp_pd.columns:\n",
    "                try:\n",
    "                    temp_pd[col] = pd.to_datetime(temp_pd[col], dayfirst=True)\n",
    "                except:\n",
    "                    try:\n",
    "                        temp_pd[col] = temp_pd[col].astype(float)\n",
    "                    except:\n",
    "                        pass\n",
    "            rename_cols = {}\n",
    "            for col in temp_pd.columns:\n",
    "                rename_cols[col] = f'{attri}_{col}'\n",
    "            temp_pd.rename(columns=rename_cols, inplace=True)\n",
    "\n",
    "            if attri == 'basis_sleep':\n",
    "                temp_pd.rename(columns={f'{attri}_tbegin': f'{attri}_ts_begin', f'{attri}_tend': f'{attri}_ts_end'}, inplace=True)\n",
    "            \n",
    "            # this part is time consuming\n",
    "            if attri in ['glucose_level', 'finger_stick', 'basal', \n",
    "            'meal', 'stressors', 'exercise', 'basis_gsr',\n",
    "             'basis_skin_temperature', 'acceleration', 'basis_heart_rate', 'basis_air_temperature', 'basis_steps']:\n",
    "                temp_pd.set_index(f'{attri}_ts', inplace=True)\n",
    "            elif attri in ['hypo_event']:\n",
    "                pid_attri2data[(pid, attri)] = temp_pd\n",
    "                continue\n",
    "            else:\n",
    "\n",
    "                temp_pd.set_index(f'{attri}_ts_begin', inplace=True)\n",
    "\n",
    "\n",
    "            pid_attri2data[(pid, attri)] = temp_pd\n",
    "    return pid_attri2data"
   ]
  },
  {
   "cell_type": "code",
   "execution_count": 3,
   "metadata": {},
   "outputs": [],
   "source": [
    "# load training data\n",
    "train_pid_attri2data = load_xml(is_train=True)\n",
    "\n",
    "# load testing data\n",
    "test_pid_attri2data = load_xml(is_train=False)"
   ]
  },
  {
   "cell_type": "code",
   "execution_count": 4,
   "metadata": {},
   "outputs": [],
   "source": [
    "pid2regular_df = {}\n",
    "for pid in pid_list:\n",
    "    if pid in pid_list_2020:\n",
    "        pid2regular_df[pid] = pd.concat([train_pid_attri2data[(pid, 'glucose_level')], test_pid_attri2data[(pid, 'glucose_level')].iloc[12:]])\n",
    "        \n",
    "    else:\n",
    "        pid2regular_df[pid] = pd.concat([train_pid_attri2data[(pid, 'glucose_level')], test_pid_attri2data[(pid, 'glucose_level')]])\n",
    "    pid2regular_df[pid].index.rename('ts', inplace=True)\n",
    "    pid2regular_df[pid].rename(columns={'glucose_level_value':'glucose_level'}, inplace=True)\n"
   ]
  },
  {
   "cell_type": "code",
   "execution_count": 5,
   "metadata": {},
   "outputs": [],
   "source": [
    "# add time features\n",
    "\n",
    "def add_time_attributes(pid2data):\n",
    "    for pid in pid2data:\n",
    "        data = pid2data[pid]\n",
    "\n",
    "        temp = data.index.to_frame().iloc[:, 0].dt\n",
    "        \n",
    "        data['day_of_week'] = temp.dayofweek\n",
    "        data['day_of_week'] = data['day_of_week'].astype(np.float64)\n",
    "\n",
    "        data['hour'] = temp.hour\n",
    "        data['hour'] = data['hour'].astype(np.float64)\n",
    "\n",
    "        data['minute'] = temp.minute\n",
    "        data['minute'] = data['minute'].astype(np.float64)\n",
    "\n",
    "        \n",
    "        data['timestamp'] = temp.hour * 3600 +\\\n",
    "                                temp.minute * 60 +\\\n",
    "                                temp.second\n",
    "        data['timestamp'] = data['timestamp'].astype(np.float64)\n",
    "        \n",
    "        # new ————————————————————————\n",
    "        seconds_in_day = 24*60*60\n",
    "\n",
    "        data['sin_time'] = np.sin(2 * np.pi * data.timestamp / seconds_in_day)\n",
    "        data['cos_time'] = np.cos(2 * np.pi * data.timestamp / seconds_in_day)\n",
    "        data['sin_time'].astype(np.float64)\n",
    "        data['cos_time'].astype(np.float64)\n",
    "        # end ______________________\n",
    "        \n",
    "        data['datastamp'] = temp.year * 10000 + temp.month * 100 + temp.day\n",
    "        \n",
    "        \n",
    "    return pid2data\n",
    "pid2regular_df = add_time_attributes(pid2regular_df)\n",
    "for pid in pid2regular_df:\n",
    "    data = pid2regular_df[pid]\n",
    "    data = data.loc[pd.notna(data['glucose_level'])]\n",
    "    pid2regular_df[pid] = data"
   ]
  },
  {
   "cell_type": "code",
   "execution_count": 6,
   "metadata": {},
   "outputs": [
    {
     "data": {
      "text/plain": [
       "dict_keys([559, 563, 570, 575, 588, 591, 540, 544, 552, 567, 584, 596])"
      ]
     },
     "execution_count": 6,
     "metadata": {},
     "output_type": "execute_result"
    }
   ],
   "source": [
    "pid2regular_df.keys()"
   ]
  },
  {
   "cell_type": "code",
   "execution_count": 7,
   "metadata": {},
   "outputs": [],
   "source": [
    "def f(x):\n",
    "    return 1.509 * ((np.log(x))**1.084 - 5.381)\n",
    "\n",
    "def cal_LBGI(x):\n",
    "    x = f(x) if f(x) <= 0 else 0\n",
    "    return 10 * x ** 2\n",
    "\n",
    "def cal_HBGI(x):\n",
    "    x = f(x) if f(x) > 0 else 0\n",
    "    return 10 * x ** 2\n",
    "count2count_list = {}\n",
    "count2count_list['No. of Days'] = []\n",
    "count2count_list['CV'] = []\n",
    "count2count_list['TIR'] = []\n",
    "count2count_list['TBR'] = []\n",
    "count2count_list['TAR'] = []\n",
    "\n",
    "count2count_list['LBGI'] = []\n",
    "count2count_list['HBGI'] = []\n",
    "\n",
    "count2count_list['Mean of CGM data'] = []\n",
    "count2count_list['SD of CGM data'] = []\n",
    "count2count_list['No. of CGM records'] = []\n",
    "\n",
    "for pid in pid2regular_df:\n",
    "    \n",
    "    glucose_avg_by_day = pid2regular_df[pid][['glucose_level', 'datastamp']].groupby('datastamp').mean()\n",
    "    \n",
    "    count2count_list['No. of Days'].append(len(glucose_avg_by_day))\n",
    "    \n",
    "    glucose_mean = pid2regular_df[pid]['glucose_level'].mean()\n",
    "    glucose_std = pid2regular_df[pid]['glucose_level'].std()\n",
    "    count2count_list['Mean of CGM data'].append(glucose_mean)\n",
    "    count2count_list['SD of CGM data'].append(glucose_std)\n",
    "    \n",
    "    count2count_list['No. of CGM records'].append(len(pid2regular_df[pid]['glucose_level']))\n",
    " \n",
    "    count2count_list['CV'].append((glucose_std / glucose_mean) * 100)\n",
    "\n",
    "    target_range_min = 70\n",
    "    target_range_max = 180\n",
    "    \n",
    "    glucose_values = pid2regular_df[pid]['glucose_level']\n",
    "    time_in_range = ((glucose_values >= target_range_min) & (glucose_values <= target_range_max)).sum()\n",
    "    total_time_points = len(glucose_values)\n",
    "    tir_percentage = (time_in_range / total_time_points) * 100\n",
    "    count2count_list['TIR'].append(tir_percentage)\n",
    "    \n",
    "    \n",
    "    time_below_range = ((glucose_values < target_range_min)).sum()\n",
    "    tbr_percentage = (time_below_range / total_time_points) * 100\n",
    "    count2count_list['TBR'].append(tbr_percentage)\n",
    "    \n",
    "    time_above_range = ((glucose_values > target_range_max)).sum()\n",
    "    tar_percentage = (time_above_range / total_time_points) * 100\n",
    "    count2count_list['TAR'].append(tar_percentage)\n",
    "    \n",
    "    LBGI = pid2regular_df[pid]['glucose_level'].apply(cal_LBGI)\n",
    "    HBGI = pid2regular_df[pid]['glucose_level'].apply(cal_HBGI)\n",
    "\n",
    "    count2count_list['LBGI'].append(LBGI.mean())\n",
    "    count2count_list['HBGI'].append(HBGI.mean())\n",
    "    \n"
   ]
  },
  {
   "cell_type": "code",
   "execution_count": 57,
   "metadata": {},
   "outputs": [
    {
     "name": "stdout",
     "output_type": "stream",
     "text": [
      "No. of Days 54.333333333333336 2.8963578661637945\n",
      "CV 36.634097365058715 3.700004276590946\n",
      "TIR 63.544498049959834 9.696947988155983\n",
      "TBR 3.3012934138380063 2.246487412298367\n",
      "TAR 33.154208536202155 10.712025045214212\n",
      "LBGI 0.8842483313817754 0.48253118052188665\n",
      "HBGI 7.151049499689435 2.4536745083449674\n",
      "Mean of CGM data 159.34808974005276 16.335885496183423\n",
      "SD of CGM data 58.112530497108544 6.153701918755674\n",
      "No. of CGM records 13871.75 1015.1701930382577\n"
     ]
    }
   ],
   "source": [
    "for k in count2count_list:\n",
    "\n",
    "   print(k, np.mean(count2count_list[k]), np.std(count2count_list[k]))"
   ]
  },
  {
   "cell_type": "code",
   "execution_count": 61,
   "metadata": {},
   "outputs": [],
   "source": [
    "import xlwt\n",
    "\n",
    "book = xlwt.Workbook(encoding='utf-8', style_compression=0)\n",
    "sheet = book.add_sheet('Main', cell_overwrite_ok=True)\n",
    "\n",
    "row_names = ['No. of Days', 'No. of CGM records', 'Mean of CGM data', 'SD of CGM data', 'TIR', 'TBR','TAR', 'CV', 'LBGI', 'HBGI'] \n",
    "\n",
    "\n",
    "for r_idx, r_name in enumerate(row_names):\n",
    "    sheet.write(r_idx + 3, 0, r_name)\n",
    "    \n",
    "    if 'No' not in r_name:\n",
    "        print_str = f'{np.mean(count2count_list[r_name]):.2f}({np.std(count2count_list[r_name]):.2f})'\n",
    "    else:\n",
    "        print_str = f'{int(np.mean(count2count_list[r_name]))}({int(np.std(count2count_list[r_name]))})'\n",
    "    sheet.write(r_idx + 3, 1, print_str)\n",
    "book.save(f'ohio.xls')\n"
   ]
  },
  {
   "cell_type": "code",
   "execution_count": 8,
   "metadata": {},
   "outputs": [
    {
     "data": {
      "text/plain": [
       "[13310,\n",
       " 14694,\n",
       " 13727,\n",
       " 14456,\n",
       " 15431,\n",
       " 13607,\n",
       " 14831,\n",
       " 13327,\n",
       " 11432,\n",
       " 13235,\n",
       " 14803,\n",
       " 13608]"
      ]
     },
     "execution_count": 8,
     "metadata": {},
     "output_type": "execute_result"
    }
   ],
   "source": [
    "count2count_list['No. of CGM records']"
   ]
  },
  {
   "cell_type": "code",
   "execution_count": 63,
   "metadata": {},
   "outputs": [
    {
     "data": {
      "text/plain": [
       "(46.666666666666664, 11.055415967851333)"
      ]
     },
     "execution_count": 63,
     "metadata": {},
     "output_type": "execute_result"
    }
   ],
   "source": [
    "age = [30, 50, 30, 30, 50, 70] + [50] * 6\n",
    "np.mean(age), np.std(age)"
   ]
  }
 ],
 "metadata": {
  "kernelspec": {
   "display_name": "Python 3.9.12 ('base')",
   "language": "python",
   "name": "python3"
  },
  "language_info": {
   "codemirror_mode": {
    "name": "ipython",
    "version": 3
   },
   "file_extension": ".py",
   "mimetype": "text/x-python",
   "name": "python",
   "nbconvert_exporter": "python",
   "pygments_lexer": "ipython3",
   "version": "3.9.18"
  },
  "orig_nbformat": 4,
  "vscode": {
   "interpreter": {
    "hash": "52634da84371cba311ea128a5ea7cdc41ff074b781779e754b270ff9f8153cee"
   }
  }
 },
 "nbformat": 4,
 "nbformat_minor": 2
}
