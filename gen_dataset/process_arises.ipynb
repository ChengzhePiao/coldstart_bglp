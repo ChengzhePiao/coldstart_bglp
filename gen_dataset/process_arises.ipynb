{
 "cells": [
  {
   "cell_type": "code",
   "execution_count": 1,
   "metadata": {},
   "outputs": [],
   "source": [
    "import numpy as np\n",
    "import os\n",
    "import pandas as pd\n",
    "import copy \n",
    "import datetime \n",
    "data_path = '../../../code_data/arises/'\n",
    "process_file = 'coldstart_fl'\n",
    "\n",
    "pid_list = [1000 + d for d in range(1, 13)]\n"
   ]
  },
  {
   "cell_type": "code",
   "execution_count": 2,
   "metadata": {},
   "outputs": [
    {
     "name": "stdout",
     "output_type": "stream",
     "text": [
      "1001, total_points:15831, start:2019-02-28 12:43:28, end:2019-04-24 11:51:50\n",
      "1002, total_points:13215, start:2019-03-04 14:18:20, end:2019-04-19 11:25:42\n",
      "1003, total_points:14896, start:2019-03-04 19:17:53, end:2019-04-25 12:31:25\n",
      "1004, total_points:11517, start:2019-03-05 13:47:53, end:2019-04-14 13:25:57\n",
      "1005, total_points:14064, start:2019-03-07 13:48:01, end:2019-04-25 09:41:10\n",
      "1006, total_points:13464, start:2019-03-08 14:15:27, end:2019-04-24 08:08:52\n",
      "1007, total_points:13066, start:2019-04-29 13:35:19, end:2019-06-13 22:18:07\n",
      "1008, total_points:14307, start:2019-04-29 16:00:45, end:2019-06-18 08:08:44\n",
      "1009, total_points:14201, start:2019-04-30 12:41:20, end:2019-06-18 19:59:44\n",
      "1010, total_points:12911, start:2019-04-30 16:12:50, end:2019-06-14 12:01:44\n",
      "1011, total_points:13018, start:2019-05-07 12:41:15, end:2019-06-21 17:25:02\n",
      "1012, total_points:15797, start:2019-05-07 16:05:46, end:2019-07-01 12:23:44\n"
     ]
    }
   ],
   "source": [
    "pid2regular_df = {}\n",
    "names = ['ts', 'glucose_level', 'isRealBGL', 'basal', 'meal', \n",
    "'bolus', 'correction_bolus', 'finger_stick',\t'hypoStart', \n",
    "'EDA',\t'SCL', 'SCR', 'HR', 'TEMP', 'ACC', 'RMSSD', 'SDNN', 'medianNNI', 'CVNNI', 'CVSD', 'pNNX', \n",
    "'meanHR', 'minHR', 'maxHR', 'VLF', 'LF', 'HF', 'LHR']\n",
    "usecols = [i for i in range(28)]\n",
    "for pid in pid_list:\n",
    "    \n",
    "    load_path = os.path.join(data_path, 'raw_data', f'dc_{pid}_data.csv')\n",
    "    df = pd.read_csv(load_path, names=names, usecols=usecols, header=1)\n",
    "\n",
    "    df['ts'] = pd.to_datetime(df['ts'], dayfirst=True, errors='coerce')\n",
    "    # df = df.groupby('ts').sum()\n",
    "    df = df.set_index('ts')\n",
    "    df = df.sort_index()\n",
    "    df['glucose_level'] = df.apply(lambda row: row['glucose_level'] if row['isRealBGL'] == True else np.nan,  axis = 1)\n",
    "    df = df.drop(['hypoStart', 'isRealBGL'], axis=1)\n",
    "    df = df.astype(np.float64)\n",
    "    df = df.replace(0.0, np.nan)\n",
    "    pid2regular_df[pid] = df\n",
    "    print(f'{pid}, total_points:{len(df)}, start:{df.index[0]}, end:{df.index[-1]}')\n"
   ]
  },
  {
   "cell_type": "code",
   "execution_count": 3,
   "metadata": {},
   "outputs": [
    {
     "name": "stdout",
     "output_type": "stream",
     "text": [
      "1001 0\n",
      "1002 0\n",
      "1003 0\n",
      "1004 0\n",
      "1005 0\n",
      "1006 0\n",
      "1007 0\n",
      "1008 0\n",
      "1009 0\n",
      "1010 0\n",
      "1011 0\n",
      "1012 0\n"
     ]
    }
   ],
   "source": [
    "# check\n",
    "for pid in pid_list:\n",
    "    delta_ts = pid2regular_df[pid].index[1:] - pid2regular_df[pid].index[:-1]\n",
    "    print(pid, (delta_ts>datetime.timedelta(minutes=5, seconds=10)).sum())"
   ]
  },
  {
   "cell_type": "code",
   "execution_count": 4,
   "metadata": {},
   "outputs": [],
   "source": [
    "# add time features\n",
    "\n",
    "def add_time_attributes(pid2data):\n",
    "    for pid in pid2data:\n",
    "        data = pid2data[pid]\n",
    "\n",
    "        temp = data.index.to_frame().loc[:, 'ts'].dt\n",
    "        \n",
    "        data['day_of_week'] = temp.dayofweek\n",
    "        data['day_of_week'] = data['day_of_week'].astype(np.float64)\n",
    "\n",
    "        data['hour'] = temp.hour\n",
    "        data['hour'] = data['hour'].astype(np.float64)\n",
    "\n",
    "        data['minute'] = temp.minute\n",
    "        data['minute'] = data['minute'].astype(np.float64)\n",
    "\n",
    "        \n",
    "        data['timestamp'] = temp.hour * 3600 +\\\n",
    "                                temp.minute * 60 +\\\n",
    "                                temp.second\n",
    "        data['timestamp'] = data['timestamp'].astype(np.float64)\n",
    "        \n",
    "        # new ————————————————————————\n",
    "        seconds_in_day = 24*60*60\n",
    "\n",
    "        data['sin_time'] = np.sin(2 * np.pi * data.timestamp / seconds_in_day)\n",
    "        data['cos_time'] = np.cos(2 * np.pi * data.timestamp / seconds_in_day)\n",
    "        data['sin_time'].astype(np.float64)\n",
    "        data['cos_time'].astype(np.float64)\n",
    "        # end ______________________\n",
    "        \n",
    "        \n",
    "    return pid2data"
   ]
  },
  {
   "cell_type": "code",
   "execution_count": 5,
   "metadata": {},
   "outputs": [],
   "source": [
    "pid2regular_df = add_time_attributes(pid2regular_df)\n"
   ]
  },
  {
   "cell_type": "code",
   "execution_count": 6,
   "metadata": {},
   "outputs": [
    {
     "data": {
      "text/plain": [
       "count    15831.000000\n",
       "mean         0.000045\n",
       "std          0.707334\n",
       "min         -0.999977\n",
       "25%         -0.712001\n",
       "50%          0.007272\n",
       "75%          0.712128\n",
       "max          0.999976\n",
       "Name: sin_time, dtype: float64"
      ]
     },
     "execution_count": 6,
     "metadata": {},
     "output_type": "execute_result"
    }
   ],
   "source": [
    "pid2regular_df[1001].sin_time.describe()"
   ]
  },
  {
   "cell_type": "code",
   "execution_count": 7,
   "metadata": {},
   "outputs": [],
   "source": [
    "# add discrete y\n",
    "\n",
    "def discrete(y):\n",
    "    if y < 70:\n",
    "        return 0\n",
    "    elif 70<= y <=180:\n",
    "        return 1\n",
    "    elif y > 180:\n",
    "        return 2\n",
    "    else:\n",
    "        return np.nan\n",
    "\n",
    "\n",
    "def add_discrete_y(pid2data):\n",
    "    for pid in pid2data:\n",
    "        data = pid2data[pid]\n",
    "        data['discrete_y'] = data['glucose_level']\n",
    "\n",
    "        data['discrete_y'] = data['discrete_y'].apply(discrete)\n",
    "        \n",
    "    return pid2data"
   ]
  },
  {
   "cell_type": "code",
   "execution_count": 8,
   "metadata": {},
   "outputs": [],
   "source": [
    "pid2regular_df = add_discrete_y(pid2regular_df)"
   ]
  },
  {
   "cell_type": "code",
   "execution_count": 9,
   "metadata": {},
   "outputs": [
    {
     "data": {
      "text/plain": [
       "Index(['glucose_level', 'basal', 'meal', 'bolus', 'correction_bolus',\n",
       "       'finger_stick', 'EDA', 'SCL', 'SCR', 'HR', 'TEMP', 'ACC', 'RMSSD',\n",
       "       'SDNN', 'medianNNI', 'CVNNI', 'CVSD', 'pNNX', 'meanHR', 'minHR',\n",
       "       'maxHR', 'VLF', 'LF', 'HF', 'LHR', 'day_of_week', 'hour', 'minute',\n",
       "       'timestamp', 'sin_time', 'cos_time', 'discrete_y'],\n",
       "      dtype='object')"
      ]
     },
     "execution_count": 9,
     "metadata": {},
     "output_type": "execute_result"
    }
   ],
   "source": [
    "pid2regular_df[1001].columns"
   ]
  },
  {
   "cell_type": "code",
   "execution_count": 10,
   "metadata": {},
   "outputs": [],
   "source": [
    "def add_indicate_for_nan(pid2data, ignore_indicate_set):\n",
    "    for pid in pid2data:\n",
    "        data = pid2data[pid]\n",
    "        for attri in data:\n",
    "            if attri in ignore_indicate_set:\n",
    "                continue\n",
    "            data[attri + '_indicate'] = 1\n",
    "            data.loc[pd.notna(data[attri]), attri + '_indicate'] = 0\n",
    "            if sum(data[attri + '_indicate']) != len(data[attri]) - sum(pd.notna(data[attri])):\n",
    "                print('error')\n",
    "    return pid2data"
   ]
  },
  {
   "cell_type": "code",
   "execution_count": 11,
   "metadata": {},
   "outputs": [],
   "source": [
    "ignore_indicate_set = ['day_of_week', 'hour', 'minute',\n",
    "       'timestamp', 'sin_time', 'cos_time',]\n",
    "pid2regular_df = add_indicate_for_nan(pid2regular_df, ignore_indicate_set)"
   ]
  },
  {
   "cell_type": "code",
   "execution_count": 12,
   "metadata": {},
   "outputs": [
    {
     "name": "stdout",
     "output_type": "stream",
     "text": [
      "1001 15142 9636 3122 3073\n",
      "1002 12882 7871 2635 2709\n",
      "1003 14223 8952 2903 3041\n",
      "1004 11165 6782 2354 2381\n",
      "1005 13888 8437 2807 2820\n",
      "1006 13062 8105 2692 2667\n",
      "1007 11905 8202 2421 2443\n",
      "1008 14200 8598 2870 2839\n",
      "1009 13671 8614 2790 2797\n",
      "1010 12736 7741 2587 2583\n",
      "1011 12690 7805 2612 2601\n",
      "1012 14334 9033 3650 3114\n"
     ]
    }
   ],
   "source": [
    "pid2train = {}\n",
    "pid2valid = {}\n",
    "pid2test = {}\n",
    "\n",
    "for pid in pid_list:\n",
    "    idxs = pid2regular_df[pid].index[pd.notna(pid2regular_df[pid]['glucose_level'])]\n",
    "\n",
    "    idxs = idxs.to_frame()\n",
    "\n",
    "    total_len = len(idxs)\n",
    "    train_end = int(total_len * 0.6)\n",
    "    valid_end = int(total_len * 0.8) \n",
    "\n",
    "    pid2train[pid] = pid2regular_df[pid].loc[:idxs.iloc[train_end][0]]\n",
    "\n",
    "    pid2valid[pid] = pid2regular_df[pid].loc[idxs.iloc[train_end + 1][0]:idxs.iloc[valid_end][0]]\n",
    "\n",
    "    pid2test[pid] = pid2regular_df[pid].loc[idxs.iloc[valid_end + 1][0]:]\n",
    "\n",
    "    print(pid, total_len, len(pid2train[pid]), len(pid2valid[pid]), len(pid2test[pid]))"
   ]
  },
  {
   "cell_type": "code",
   "execution_count": 13,
   "metadata": {},
   "outputs": [
    {
     "data": {
      "text/plain": [
       "SCL                -0.035496\n",
       "medianNNI          -0.034121\n",
       "SDNN               -0.025722\n",
       "basal              -0.025605\n",
       "VLF                -0.021262\n",
       "LF                 -0.016292\n",
       "LHR                -0.015930\n",
       "EDA                -0.012553\n",
       "timestamp          -0.011617\n",
       "RMSSD              -0.011113\n",
       "CVNNI              -0.010650\n",
       "ACC                -0.009611\n",
       "pNNX               -0.005775\n",
       "HF                 -0.002610\n",
       "CVSD               -0.000801\n",
       "SCR                 0.003909\n",
       "TEMP                0.006357\n",
       "HR                  0.007584\n",
       "maxHR               0.015800\n",
       "meanHR              0.033335\n",
       "minHR               0.033883\n",
       "meal                0.134624\n",
       "bolus               0.278311\n",
       "correction_bolus    0.484299\n",
       "finger_stick        0.934956\n",
       "glucose_level       1.000000\n",
       "Name: glucose_level, dtype: float64"
      ]
     },
     "execution_count": 13,
     "metadata": {},
     "output_type": "execute_result"
    }
   ],
   "source": [
    "# calculate pearson\n",
    "df = pd.concat(list(pid2train.values()))\n",
    "df[['glucose_level', 'basal', 'meal', 'bolus', 'correction_bolus',\n",
    "       'finger_stick', 'EDA', 'SCL', 'SCR', 'HR', 'TEMP', 'ACC', 'RMSSD', 'SDNN',\n",
    "       'medianNNI', 'CVNNI', 'CVSD', 'pNNX', 'meanHR', 'minHR', 'maxHR', 'VLF',\n",
    "       'LF', 'HF', 'LHR', 'timestamp']].corr(method ='pearson')['glucose_level'].sort_values()"
   ]
  },
  {
   "cell_type": "code",
   "execution_count": 14,
   "metadata": {},
   "outputs": [
    {
     "data": {
      "text/plain": [
       "Index(['glucose_level', 'basal', 'meal', 'bolus', 'correction_bolus',\n",
       "       'finger_stick', 'EDA', 'SCL', 'SCR', 'HR', 'TEMP', 'ACC', 'RMSSD',\n",
       "       'SDNN', 'medianNNI', 'CVNNI', 'CVSD', 'pNNX', 'meanHR', 'minHR',\n",
       "       'maxHR', 'VLF', 'LF', 'HF', 'LHR', 'day_of_week', 'hour', 'minute',\n",
       "       'timestamp', 'sin_time', 'cos_time', 'discrete_y',\n",
       "       'glucose_level_indicate', 'basal_indicate', 'meal_indicate',\n",
       "       'bolus_indicate', 'correction_bolus_indicate', 'finger_stick_indicate',\n",
       "       'EDA_indicate', 'SCL_indicate', 'SCR_indicate', 'HR_indicate',\n",
       "       'TEMP_indicate', 'ACC_indicate', 'RMSSD_indicate', 'SDNN_indicate',\n",
       "       'medianNNI_indicate', 'CVNNI_indicate', 'CVSD_indicate',\n",
       "       'pNNX_indicate', 'meanHR_indicate', 'minHR_indicate', 'maxHR_indicate',\n",
       "       'VLF_indicate', 'LF_indicate', 'HF_indicate', 'LHR_indicate',\n",
       "       'discrete_y_indicate'],\n",
       "      dtype='object')"
      ]
     },
     "execution_count": 14,
     "metadata": {},
     "output_type": "execute_result"
    }
   ],
   "source": [
    "pid2train[pid].columns"
   ]
  },
  {
   "cell_type": "code",
   "execution_count": 15,
   "metadata": {},
   "outputs": [],
   "source": [
    "pid_attri2mean_std = {}\n",
    "attris_should_norm = ['glucose_level', 'basal', 'meal', 'bolus', 'correction_bolus',\n",
    "       'finger_stick', 'EDA', 'SCL', 'SCR', 'HR', 'TEMP', 'ACC', 'RMSSD', 'SDNN',\n",
    "       'medianNNI', 'CVNNI', 'CVSD', 'pNNX', 'meanHR', 'minHR', 'maxHR', 'VLF',\n",
    "       'LF', 'HF', 'LHR', 'timestamp']\n",
    "for pid in pid_list:\n",
    "    for attri in attris_should_norm:\n",
    "        mean = pid2train[pid][attri].mean()\n",
    "        std = pid2train[pid][attri].std()\n",
    "        if std is np.NaN or std is pd.NaT or std == 0:\n",
    "            std = 1e-6\n",
    "        pid_attri2mean_std[(pid, attri)] = (mean, std)\n",
    "\n",
    "if not os.path.exists(os.path.join(data_path, process_file)):\n",
    "    os.makedirs(os.path.join(data_path, process_file))\n",
    "np.save(os.path.join(data_path, process_file, 'pid_attri2mean_std.npy'), pid_attri2mean_std)"
   ]
  },
  {
   "cell_type": "code",
   "execution_count": 16,
   "metadata": {},
   "outputs": [],
   "source": [
    "def norm_data(pid2data, pid_attri2mean_std, attris_should_norm):\n",
    "\n",
    "    new_pid2data = {}\n",
    "    for pid in pid2data:\n",
    "\n",
    "        new_pid2data[pid] = copy.deepcopy(pid2data[pid]) \n",
    "\n",
    "        for attri in attris_should_norm:\n",
    "\n",
    "            mean, std = pid_attri2mean_std[(pid, attri)]\n",
    "\n",
    "            if std <= 1e-6:\n",
    "                new_pid2data[pid][attri] = new_pid2data[pid][attri] / mean\n",
    "            else:\n",
    "                new_pid2data[pid][attri] = (new_pid2data[pid][attri] - mean) / std          \n",
    "\n",
    "    return new_pid2data"
   ]
  },
  {
   "cell_type": "code",
   "execution_count": 17,
   "metadata": {},
   "outputs": [],
   "source": [
    "pid2train_norm = norm_data(pid2train, pid_attri2mean_std, attris_should_norm)\n",
    "pid2valid_norm = norm_data(pid2valid, pid_attri2mean_std, attris_should_norm)\n",
    "pid2test_norm = norm_data(pid2test, pid_attri2mean_std, attris_should_norm)"
   ]
  },
  {
   "cell_type": "code",
   "execution_count": 18,
   "metadata": {},
   "outputs": [
    {
     "name": "stdout",
     "output_type": "stream",
     "text": [
      "                           idx\n",
      "attri                         \n",
      "basal                        0\n",
      "meal                         1\n",
      "bolus                        2\n",
      "correction_bolus             3\n",
      "finger_stick                 4\n",
      "EDA                          5\n",
      "SCL                          6\n",
      "SCR                          7\n",
      "HR                           8\n",
      "TEMP                         9\n",
      "ACC                         10\n",
      "RMSSD                       11\n",
      "SDNN                        12\n",
      "medianNNI                   13\n",
      "CVNNI                       14\n",
      "CVSD                        15\n",
      "pNNX                        16\n",
      "meanHR                      17\n",
      "minHR                       18\n",
      "maxHR                       19\n",
      "VLF                         20\n",
      "LF                          21\n",
      "HF                          22\n",
      "LHR                         23\n",
      "day_of_week                 24\n",
      "hour                        25\n",
      "minute                      26\n",
      "timestamp                   27\n",
      "sin_time                    28\n",
      "cos_time                    29\n",
      "glucose_level_indicate      30\n",
      "basal_indicate              31\n",
      "meal_indicate               32\n",
      "bolus_indicate              33\n",
      "correction_bolus_indicate   34\n",
      "finger_stick_indicate       35\n",
      "EDA_indicate                36\n",
      "SCL_indicate                37\n",
      "SCR_indicate                38\n",
      "HR_indicate                 39\n",
      "TEMP_indicate               40\n",
      "ACC_indicate                41\n",
      "RMSSD_indicate              42\n",
      "SDNN_indicate               43\n",
      "medianNNI_indicate          44\n",
      "CVNNI_indicate              45\n",
      "CVSD_indicate               46\n",
      "pNNX_indicate               47\n",
      "meanHR_indicate             48\n",
      "minHR_indicate              49\n",
      "maxHR_indicate              50\n",
      "VLF_indicate                51\n",
      "LF_indicate                 52\n",
      "HF_indicate                 53\n",
      "LHR_indicate                54\n",
      "                         attri\n",
      "idx                           \n",
      "0                        basal\n",
      "1                         meal\n",
      "2                        bolus\n",
      "3             correction_bolus\n",
      "4                 finger_stick\n",
      "5                          EDA\n",
      "6                          SCL\n",
      "7                          SCR\n",
      "8                           HR\n",
      "9                         TEMP\n",
      "10                         ACC\n",
      "11                       RMSSD\n",
      "12                        SDNN\n",
      "13                   medianNNI\n",
      "14                       CVNNI\n",
      "15                        CVSD\n",
      "16                        pNNX\n",
      "17                      meanHR\n",
      "18                       minHR\n",
      "19                       maxHR\n",
      "20                         VLF\n",
      "21                          LF\n",
      "22                          HF\n",
      "23                         LHR\n",
      "24                 day_of_week\n",
      "25                        hour\n",
      "26                      minute\n",
      "27                   timestamp\n",
      "28                    sin_time\n",
      "29                    cos_time\n",
      "30      glucose_level_indicate\n",
      "31              basal_indicate\n",
      "32               meal_indicate\n",
      "33              bolus_indicate\n",
      "34   correction_bolus_indicate\n",
      "35       finger_stick_indicate\n",
      "36                EDA_indicate\n",
      "37                SCL_indicate\n",
      "38                SCR_indicate\n",
      "39                 HR_indicate\n",
      "40               TEMP_indicate\n",
      "41                ACC_indicate\n",
      "42              RMSSD_indicate\n",
      "43               SDNN_indicate\n",
      "44          medianNNI_indicate\n",
      "45              CVNNI_indicate\n",
      "46               CVSD_indicate\n",
      "47               pNNX_indicate\n",
      "48             meanHR_indicate\n",
      "49              minHR_indicate\n",
      "50              maxHR_indicate\n",
      "51                VLF_indicate\n",
      "52                 LF_indicate\n",
      "53                 HF_indicate\n",
      "54                LHR_indicate\n"
     ]
    }
   ],
   "source": [
    "attri_list_wo_glucose = [\n",
    "    'basal', 'meal', 'bolus', 'correction_bolus',\n",
    "    'finger_stick', 'EDA', 'SCL', 'SCR', 'HR', 'TEMP', 'ACC', 'RMSSD', 'SDNN',\n",
    "    'medianNNI', 'CVNNI', 'CVSD', 'pNNX', 'meanHR', 'minHR', 'maxHR', 'VLF',\n",
    "    'LF', 'HF', 'LHR', 'day_of_week', 'hour', 'minute', 'timestamp',\n",
    "    'sin_time', 'cos_time', 'glucose_level_indicate',\n",
    "    'basal_indicate', 'meal_indicate', 'bolus_indicate',\n",
    "    'correction_bolus_indicate', 'finger_stick_indicate', 'EDA_indicate',\n",
    "    'SCL_indicate', 'SCR_indicate', 'HR_indicate', 'TEMP_indicate',\n",
    "    'ACC_indicate', 'RMSSD_indicate', 'SDNN_indicate', 'medianNNI_indicate',\n",
    "    'CVNNI_indicate', 'CVSD_indicate', 'pNNX_indicate', 'meanHR_indicate',\n",
    "    'minHR_indicate', 'maxHR_indicate', 'VLF_indicate', 'LF_indicate',\n",
    "    'HF_indicate', 'LHR_indicate' \n",
    "]\n",
    "\n",
    "temp = []\n",
    "\n",
    "for idx, attri in enumerate(attri_list_wo_glucose):\n",
    "    temp.append({'attri':attri, 'idx':idx}, )\n",
    "attri2idx = pd.DataFrame(temp).set_index('attri')\n",
    "idx2attri = pd.DataFrame(temp).set_index('idx')\n",
    "print(attri2idx)\n",
    "print(idx2attri)\n",
    "\n",
    "save_path = os.path.join(data_path, process_file)\n",
    "\n",
    "attri2idx.to_pickle(os.path.join(save_path,'attri2idx.pkl'))\n",
    "idx2attri.to_pickle(os.path.join(save_path,'idx2attri.pkl'))\n"
   ]
  },
  {
   "cell_type": "code",
   "execution_count": 19,
   "metadata": {},
   "outputs": [],
   "source": [
    "for pid in pid_list:\n",
    "    pid2train_norm[pid] = pid2train_norm[pid].fillna(0.0)\n",
    "    pid2valid_norm[pid] = pid2valid_norm[pid].fillna(0.0)\n",
    "    pid2test_norm[pid] = pid2test_norm[pid].fillna(0.0)"
   ]
  },
  {
   "cell_type": "code",
   "execution_count": 20,
   "metadata": {},
   "outputs": [],
   "source": [
    "# generate training data\n",
    "\n",
    "\n",
    "def gen_final(pid2data, attri2idx,  n_prev, pred_window, name, valid_points = 24): \n",
    "    pid2data_npy = {}\n",
    "    for pid in pid_list:\n",
    "        data = pid2data[pid]\n",
    "        \n",
    "        y_list = []\n",
    "        y_dis_list = []\n",
    "        target_cos_time_list = []\n",
    "        target_sin_time_list = []\n",
    "        target_total_seconds_list = []\n",
    "        attri_X_list = []\n",
    "\n",
    "        glucose_level_X_list = []\n",
    "        \n",
    "        seq_st_ed_list = []\n",
    "        \n",
    "        seq_st, seq_ed = None, None\n",
    "\n",
    "\n",
    "        for idx in range(len(data) - n_prev - pred_window + 1):\n",
    "            glucose_level_y = data.iloc[idx + n_prev + pred_window - 1]['glucose_level']\n",
    "            glucose_level_y_indicate = data.iloc[idx + n_prev + pred_window - 1]['glucose_level_indicate']\n",
    "            if abs(glucose_level_y_indicate - 1) < 1e-6:\n",
    "                continue\n",
    "\n",
    "            # Resonable\n",
    "            num_valids = int(valid_points - sum(data.iloc[idx + n_prev - valid_points : idx + n_prev]['glucose_level_indicate']))\n",
    "            if num_valids == 0:\n",
    "                if seq_st is not None and seq_ed - seq_st >= 2:\n",
    "                    seq_st_ed_list.append([seq_st, seq_ed])\n",
    "                seq_st, seq_ed = None, None\n",
    "                continue\n",
    "            # end\n",
    "\n",
    "            \n",
    "            y_list.append(glucose_level_y)\n",
    "            y_dis_list.append(data.iloc[idx + n_prev + pred_window - 1]['discrete_y'])\n",
    "            target_cos_time_list.append(data.iloc[idx + n_prev + pred_window - 1]['cos_time'])\n",
    "            target_sin_time_list.append(data.iloc[idx + n_prev + pred_window - 1]['sin_time'])\n",
    "            target_total_seconds_list.append(data.iloc[idx + n_prev + pred_window - 1]['timestamp'])\n",
    "            glucose_level_X = np.array(data.iloc[idx: idx + n_prev]['glucose_level'].to_numpy(), dtype=np.float32)\n",
    "\n",
    "\n",
    "            attri_X = np.array(data.iloc[idx: idx + n_prev][list(attri2idx.index)].to_numpy(), dtype=np.float32)          \n",
    "\n",
    "            glucose_level_X_list.append(np.expand_dims(glucose_level_X, axis=0))\n",
    "\n",
    "            attri_X_list.append(np.expand_dims(attri_X, axis=0))\n",
    "\n",
    "\n",
    "            if seq_st is None:\n",
    "                seq_st = len(y_list) - 1\n",
    "            else:\n",
    "                seq_ed = len(y_list) - 1\n",
    "\n",
    "        if seq_st is not None and seq_ed - seq_st >= 2:\n",
    "            seq_st_ed_list.append([seq_st, seq_ed])\n",
    "\n",
    "        pid2data_npy[pid] = {}\n",
    "        pid2data_npy[pid]['glucose_level_X'] = np.concatenate(glucose_level_X_list, axis=0)\n",
    "\n",
    "        pid2data_npy[pid]['attri_X'] = np.concatenate(attri_X_list, axis=0)\n",
    "        pid2data_npy[pid]['y'] = np.array(y_list, dtype=np.float32)\n",
    "        pid2data_npy[pid]['y_dis'] = np.array(y_dis_list, dtype=np.int32)\n",
    "        pid2data_npy[pid]['target_cos_time'] = np.array(target_cos_time_list, dtype=np.float32)\n",
    "        pid2data_npy[pid]['target_sin_time'] = np.array(target_sin_time_list, dtype=np.float32)\n",
    "        pid2data_npy[pid]['target_timestamp'] = np.array(target_total_seconds_list, dtype=np.float32)\n",
    "        pid2data_npy[pid]['mean'] = pid_attri2mean_std[(pid, 'glucose_level')][0]\n",
    "        pid2data_npy[pid]['std'] = pid_attri2mean_std[(pid, 'glucose_level')][1]\n",
    "\n",
    "        pid2data_npy[pid]['seq_st_ed_list'] = np.array(seq_st_ed_list, dtype=np.int32)\n",
    "\n",
    "        print(pid, pid2data_npy[pid]['glucose_level_X'].shape, pid2data_npy[pid]['attri_X'].shape)\n",
    "        print('    ',len(y_list), seq_st_ed_list)\n",
    "    save_path = os.path.join(data_path, process_file)\n",
    "    np.save(os.path.join(save_path, f'{name}_{n_prev}_{pred_window}.npy'), pid2data_npy)\n",
    "\n",
    "\n"
   ]
  },
  {
   "cell_type": "code",
   "execution_count": 21,
   "metadata": {},
   "outputs": [
    {
     "name": "stdout",
     "output_type": "stream",
     "text": [
      "1001 (9002, 24) (9002, 24, 55)\n",
      "     9002 [[0, 528], [529, 946], [947, 2680], [2681, 2830], [2831, 4654], [4655, 4793], [4794, 5204], [5205, 5472], [5473, 7058], [7059, 7220], [7221, 7768], [7769, 9001]]\n",
      "1002 (7691, 24) (7691, 24, 55)\n",
      "     7691 [[0, 1661], [1662, 3986], [3987, 6733], [6734, 6832], [6833, 7690]]\n",
      "1003 (8442, 24) (8442, 24, 55)\n",
      "     8442 [[0, 567], [568, 2609], [2610, 2758], [2759, 3418], [3419, 4756], [4757, 5261], [5262, 5464], [5465, 5948], [5949, 7657], [7658, 7894], [7895, 8211], [8212, 8441]]\n",
      "1004 (6658, 24) (6658, 24, 55)\n",
      "     6658 [[0, 2825], [2826, 5653], [5654, 5659], [5660, 6657]]\n",
      "1005 (8286, 24) (8286, 24, 55)\n",
      "     8286 [[0, 2535], [2536, 5235], [5236, 7881], [7882, 8285]]\n",
      "1006 (7785, 24) (7785, 24, 55)\n",
      "     7785 [[0, 1167], [1168, 2608], [2609, 3352], [3353, 5286], [5287, 7784]]\n",
      "1007 (7034, 24) (7034, 24, 55)\n",
      "     7034 [[0, 78], [79, 1051], [1052, 1678], [1679, 2559], [2560, 2775], [2776, 3261], [3262, 3760], [3761, 3817], [3818, 3870], [3871, 4051], [4052, 4155], [4156, 4434], [4435, 5190], [5191, 6167], [6168, 6668], [6669, 6686], [6687, 6741], [6742, 7033]]\n",
      "1008 (8474, 24) (8474, 24, 55)\n",
      "     8474 [[0, 2825], [2826, 5616], [5617, 8452], [8453, 8473]]\n",
      "1009 (8154, 24) (8154, 24, 55)\n",
      "     8154 [[0, 2790], [2791, 5010], [5011, 5296], [5297, 8141], [8142, 8153]]\n",
      "1010 (7601, 24) (7601, 24, 55)\n",
      "     7601 [[0, 2766], [2767, 5614], [5615, 7600]]\n",
      "1011 (7574, 24) (7574, 24, 55)\n",
      "     7574 [[0, 2816], [2817, 5654], [5655, 7573]]\n",
      "1012 (8541, 24) (8541, 24, 55)\n",
      "     8541 [[0, 2825], [2826, 2830], [2831, 4723], [4724, 4764], [4765, 5527], [5528, 8377], [8378, 8540]]\n"
     ]
    }
   ],
   "source": [
    "gen_final(pid2train_norm, attri2idx,  n_prev=24, pred_window=6, name='train_pid2data_npy', valid_points = 12)"
   ]
  },
  {
   "cell_type": "code",
   "execution_count": 22,
   "metadata": {},
   "outputs": [
    {
     "name": "stdout",
     "output_type": "stream",
     "text": [
      "1001 (8956, 24) (8956, 24, 55)\n",
      "     8956 [[0, 528], [529, 940], [941, 2668], [2669, 2818], [2819, 4638], [4639, 4771], [4772, 5176], [5177, 5438], [5439, 7024], [7025, 7186], [7187, 7728], [7729, 8955]]\n",
      "1002 (7669, 24) (7669, 24, 55)\n",
      "     7669 [[0, 1655], [1656, 3974], [3975, 6723], [6724, 6816], [6817, 7668]]\n",
      "1003 (8391, 24) (8391, 24, 55)\n",
      "     8391 [[0, 561], [562, 2597], [2598, 2740], [2741, 3394], [3395, 4732], [4733, 5231], [5232, 5428], [5429, 5916], [5917, 7619], [7620, 7855], [7856, 8166], [8167, 8390]]\n",
      "1004 (6640, 24) (6640, 24, 55)\n",
      "     6640 [[0, 2819], [2820, 5647], [5648, 6639]]\n",
      "1005 (8262, 24) (8262, 24, 55)\n",
      "     8262 [[0, 2529], [2530, 5223], [5224, 7863], [7864, 8261]]\n",
      "1006 (7755, 24) (7755, 24, 55)\n",
      "     7755 [[0, 1161], [1162, 2596], [2597, 3334], [3335, 5262], [5263, 7754]]\n",
      "1007 (6962, 24) (6962, 24, 55)\n",
      "     6962 [[0, 72], [73, 1040], [1041, 1661], [1662, 2536], [2537, 2746], [2747, 3226], [3227, 3719], [3720, 3776], [3777, 3829], [3830, 4010], [4011, 4108], [4109, 4381], [4382, 5131], [5132, 6108], [6109, 6608], [6609, 6624], [6625, 6675], [6676, 6961]]\n",
      "1008 (8450, 24) (8450, 24, 55)\n",
      "     8450 [[0, 2819], [2820, 5604], [5605, 8434], [8435, 8449]]\n",
      "1009 (8130, 24) (8130, 24, 55)\n",
      "     8130 [[0, 2784], [2785, 5004], [5005, 5284], [5285, 8123], [8124, 8129]]\n",
      "1010 (7583, 24) (7583, 24, 55)\n",
      "     7583 [[0, 2760], [2761, 5602], [5603, 7582]]\n",
      "1011 (7556, 24) (7556, 24, 55)\n",
      "     7556 [[0, 2810], [2811, 5642], [5643, 7555]]\n",
      "1012 (8506, 24) (8506, 24, 55)\n",
      "     8506 [[0, 2819], [2820, 4712], [4713, 4747], [4748, 5504], [5505, 8348], [8349, 8505]]\n"
     ]
    }
   ],
   "source": [
    "gen_final(pid2train_norm, attri2idx,  n_prev=24, pred_window=12, name='train_pid2data_npy', valid_points = 12)"
   ]
  },
  {
   "cell_type": "code",
   "execution_count": 23,
   "metadata": {},
   "outputs": [
    {
     "name": "stdout",
     "output_type": "stream",
     "text": [
      "1001 (2994, 24) (2994, 24, 55)\n",
      "     2994 [[0, 1498], [1499, 1966], [1967, 2993]]\n",
      "1002 (2541, 24) (2541, 24, 55)\n",
      "     2541 [[0, 1859], [1860, 2540]]\n",
      "1003 (2810, 24) (2810, 24, 55)\n",
      "     2810 [[0, 1483], [1484, 2809]]\n",
      "1004 (2192, 24) (2192, 24, 55)\n",
      "     2192 [[0, 1349], [1350, 1723], [1724, 2191]]\n",
      "1005 (2743, 24) (2743, 24, 55)\n",
      "     2743 [[0, 2289], [2290, 2742]]\n",
      "1006 (2565, 24) (2565, 24, 55)\n",
      "     2565 [[0, 261], [262, 265], [266, 269], [270, 2376], [2377, 2564]]\n",
      "1007 (2350, 24) (2350, 24, 55)\n",
      "     2350 [[0, 118], [119, 2349]]\n",
      "1008 (2805, 24) (2805, 24, 55)\n",
      "     2805 [[0, 2794], [2795, 2804]]\n",
      "1009 (2705, 24) (2705, 24, 55)\n",
      "     2705 [[0, 2704]]\n",
      "1010 (2512, 24) (2512, 24, 55)\n",
      "     2512 [[0, 834], [835, 2511]]\n",
      "1011 (2498, 24) (2498, 24, 55)\n",
      "     2498 [[0, 28], [29, 869], [870, 2497]]\n",
      "1012 (2831, 24) (2831, 24, 55)\n",
      "     2831 [[0, 1911], [1912, 2633], [2634, 2830]]\n"
     ]
    }
   ],
   "source": [
    "gen_final(pid2valid_norm, attri2idx,  n_prev=24, pred_window=6, name='valid_pid2data_npy', valid_points = 12)"
   ]
  },
  {
   "cell_type": "code",
   "execution_count": 24,
   "metadata": {},
   "outputs": [
    {
     "name": "stdout",
     "output_type": "stream",
     "text": [
      "1001 (2979, 24) (2979, 24, 55)\n",
      "     2979 [[0, 2], [3, 1495], [1496, 1957], [1958, 2978]]\n",
      "1002 (2529, 24) (2529, 24, 55)\n",
      "     2529 [[0, 1853], [1854, 2528]]\n",
      "1003 (2798, 24) (2798, 24, 55)\n",
      "     2798 [[0, 1477], [1478, 2797]]\n",
      "1004 (2174, 24) (2174, 24, 55)\n",
      "     2174 [[0, 1343], [1344, 1711], [1712, 2173]]\n",
      "1005 (2731, 24) (2731, 24, 55)\n",
      "     2731 [[0, 2283], [2284, 2730]]\n",
      "1006 (2560, 24) (2560, 24, 55)\n",
      "     2560 [[0, 255], [256, 271], [272, 2377], [2378, 2559]]\n",
      "1007 (2344, 24) (2344, 24, 55)\n",
      "     2344 [[0, 118], [119, 2343]]\n",
      "1008 (2793, 24) (2793, 24, 55)\n",
      "     2793 [[0, 2788], [2789, 2792]]\n",
      "1009 (2699, 24) (2699, 24, 55)\n",
      "     2699 [[0, 2698]]\n",
      "1010 (2503, 24) (2503, 24, 55)\n",
      "     2503 [[0, 828], [829, 2502]]\n",
      "1011 (2482, 24) (2482, 24, 55)\n",
      "     2482 [[0, 24], [25, 859], [860, 2481]]\n",
      "1012 (2819, 24) (2819, 24, 55)\n",
      "     2819 [[0, 1911], [1912, 2627], [2628, 2818]]\n"
     ]
    }
   ],
   "source": [
    "gen_final(pid2valid_norm, attri2idx,  n_prev=24, pred_window=12, name='valid_pid2data_npy', valid_points = 12)"
   ]
  },
  {
   "cell_type": "code",
   "execution_count": 25,
   "metadata": {},
   "outputs": [
    {
     "name": "stdout",
     "output_type": "stream",
     "text": [
      "1001 (2992, 24) (2992, 24, 55)\n",
      "     2992 [[0, 1149], [1150, 1354], [1355, 2991]]\n",
      "1002 (2540, 24) (2540, 24, 55)\n",
      "     2540 [[0, 409], [410, 634], [635, 2539]]\n",
      "1003 (2797, 24) (2797, 24, 55)\n",
      "     2797 [[0, 422], [423, 1447], [1448, 1955], [1956, 2796]]\n",
      "1004 (2191, 24) (2191, 24, 55)\n",
      "     2191 [[0, 1884], [1885, 2083], [2084, 2190]]\n",
      "1005 (2739, 24) (2739, 24, 55)\n",
      "     2739 [[0, 1880], [1881, 2334], [2335, 2738]]\n",
      "1006 (2577, 24) (2577, 24, 55)\n",
      "     2577 [[0, 456], [457, 2576]]\n",
      "1007 (2342, 24) (2342, 24, 55)\n",
      "     2342 [[0, 82], [83, 205], [206, 2341]]\n",
      "1008 (2810, 24) (2810, 24, 55)\n",
      "     2810 [[0, 2809]]\n",
      "1009 (2699, 24) (2699, 24, 55)\n",
      "     2699 [[0, 18], [19, 2698]]\n",
      "1010 (2512, 24) (2512, 24, 55)\n",
      "     2512 [[0, 896], [897, 2511]]\n",
      "1011 (2496, 24) (2496, 24, 55)\n",
      "     2496 [[0, 1188], [1189, 2197], [2198, 2495]]\n",
      "1012 (2825, 24) (2825, 24, 55)\n",
      "     2825 [[0, 2396], [2397, 2573], [2574, 2824]]\n"
     ]
    }
   ],
   "source": [
    "gen_final(pid2test_norm, attri2idx,  n_prev=24, pred_window=6, name='test_pid2data_npy', valid_points = 12)"
   ]
  },
  {
   "cell_type": "code",
   "execution_count": 26,
   "metadata": {},
   "outputs": [
    {
     "name": "stdout",
     "output_type": "stream",
     "text": [
      "1001 (2980, 24) (2980, 24, 55)\n",
      "     2980 [[0, 1143], [1144, 1348], [1349, 2979]]\n",
      "1002 (2528, 24) (2528, 24, 55)\n",
      "     2528 [[0, 403], [404, 628], [629, 2527]]\n",
      "1003 (2773, 24) (2773, 24, 55)\n",
      "     2773 [[0, 416], [417, 1435], [1436, 1937], [1938, 2772]]\n",
      "1004 (2173, 24) (2173, 24, 55)\n",
      "     2173 [[0, 1878], [1879, 2071], [2072, 2172]]\n",
      "1005 (2727, 24) (2727, 24, 55)\n",
      "     2727 [[0, 1880], [1881, 2328], [2329, 2726]]\n",
      "1006 (2565, 24) (2565, 24, 55)\n",
      "     2565 [[0, 450], [451, 2564]]\n",
      "1007 (2330, 24) (2330, 24, 55)\n",
      "     2330 [[0, 76], [77, 199], [200, 2329]]\n",
      "1008 (2804, 24) (2804, 24, 55)\n",
      "     2804 [[0, 2803]]\n",
      "1009 (2687, 24) (2687, 24, 55)\n",
      "     2687 [[0, 12], [13, 2686]]\n",
      "1010 (2500, 24) (2500, 24, 55)\n",
      "     2500 [[0, 890], [891, 2499]]\n",
      "1011 (2480, 24) (2480, 24, 55)\n",
      "     2480 [[0, 1182], [1183, 2187], [2188, 2479]]\n",
      "1012 (2807, 24) (2807, 24, 55)\n",
      "     2807 [[0, 2390], [2391, 2561], [2562, 2806]]\n"
     ]
    }
   ],
   "source": [
    "gen_final(pid2test_norm, attri2idx,  n_prev=24, pred_window=12, name='test_pid2data_npy', valid_points = 12)"
   ]
  }
 ],
 "metadata": {
  "kernelspec": {
   "display_name": "Python 3.9.12 ('base')",
   "language": "python",
   "name": "python3"
  },
  "language_info": {
   "codemirror_mode": {
    "name": "ipython",
    "version": 3
   },
   "file_extension": ".py",
   "mimetype": "text/x-python",
   "name": "python",
   "nbconvert_exporter": "python",
   "pygments_lexer": "ipython3",
   "version": "3.9.12"
  },
  "orig_nbformat": 4,
  "vscode": {
   "interpreter": {
    "hash": "52634da84371cba311ea128a5ea7cdc41ff074b781779e754b270ff9f8153cee"
   }
  }
 },
 "nbformat": 4,
 "nbformat_minor": 2
}
